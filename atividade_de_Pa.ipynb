{
  "nbformat": 4,
  "nbformat_minor": 0,
  "metadata": {
    "colab": {
      "provenance": [],
      "authorship_tag": "ABX9TyPNL5Zlq7ozCCMl0S6N9XN1",
      "include_colab_link": true
    },
    "kernelspec": {
      "name": "python3",
      "display_name": "Python 3"
    },
    "language_info": {
      "name": "python"
    }
  },
  "cells": [
    {
      "cell_type": "markdown",
      "metadata": {
        "id": "view-in-github",
        "colab_type": "text"
      },
      "source": [
        "<a href=\"https://colab.research.google.com/github/PietroSantos280/aula_de_PA/blob/main/atividade_de_Pa.ipynb\" target=\"_parent\"><img src=\"https://colab.research.google.com/assets/colab-badge.svg\" alt=\"Open In Colab\"/></a>"
      ]
    },
    {
      "cell_type": "markdown",
      "source": [
        "##calculo de média"
      ],
      "metadata": {
        "id": "wlFYVapRiz0i"
      }
    },
    {
      "cell_type": "code",
      "execution_count": 1,
      "metadata": {
        "colab": {
          "base_uri": "https://localhost:8080/"
        },
        "id": "x5yNOuvKir2A",
        "outputId": "9c769227-a85d-4fff-ceea-ce31baa5f25e"
      },
      "outputs": [
        {
          "name": "stdout",
          "output_type": "stream",
          "text": [
            "Digite a nota da P1: 8\n",
            "Digite a nota da P2: 9\n"
          ]
        }
      ],
      "source": [
        "# entrada\n",
        "nota1 = float(input(\"Digite a nota da P1: \"))\n",
        "nota2 = float(input(\"Digite a nota da P2: \"))\n"
      ]
    },
    {
      "cell_type": "code",
      "source": [
        "# procassamento\n",
        "media = (nota1 + nota2) / 2\n"
      ],
      "metadata": {
        "id": "5KXtSAQyi7uw"
      },
      "execution_count": 2,
      "outputs": []
    },
    {
      "cell_type": "code",
      "source": [
        "# saída\n",
        "print(f\"A média é: {media}\")"
      ],
      "metadata": {
        "colab": {
          "base_uri": "https://localhost:8080/"
        },
        "id": "gE_BfMGzi9dp",
        "outputId": "42c49395-e5a3-4f41-81ee-c98f66e8d5a0"
      },
      "execution_count": 4,
      "outputs": [
        {
          "output_type": "stream",
          "name": "stdout",
          "text": [
            "A média é: 8.5\n"
          ]
        }
      ]
    },
    {
      "cell_type": "markdown",
      "source": [
        "##Conversão de moedas"
      ],
      "metadata": {
        "id": "qOMRVCXZjPkD"
      }
    },
    {
      "cell_type": "code",
      "source": [
        "# entrada\n",
        "cotacao = float(input(\"Digite a cotação do dólar: \"))\n",
        "valor_reais = float(input(\"Digite o valor em reais: \"))\n"
      ],
      "metadata": {
        "colab": {
          "base_uri": "https://localhost:8080/"
        },
        "id": "bS2ZlObijYau",
        "outputId": "913176fd-cdf3-4ef7-9d4f-52901269caba"
      },
      "execution_count": 7,
      "outputs": [
        {
          "name": "stdout",
          "output_type": "stream",
          "text": [
            "Digite a cotação do dólar: 5.71\n",
            "Digite o valor em reais: 10000\n"
          ]
        }
      ]
    },
    {
      "cell_type": "code",
      "source": [
        "\n",
        "# processamento\n",
        "valor_dolar = valor_reais / cotacao\n",
        "\n"
      ],
      "metadata": {
        "id": "VwmDC3gijcWZ"
      },
      "execution_count": 8,
      "outputs": []
    },
    {
      "cell_type": "code",
      "source": [
        "# saida\n",
        "print(f\"O valor em dólares é: ${valor_dolar:.2f}\")"
      ],
      "metadata": {
        "colab": {
          "base_uri": "https://localhost:8080/"
        },
        "id": "wtSz9cFnjdkr",
        "outputId": "7cd7b016-6c89-46ee-a278-52c9d0c9ce4a"
      },
      "execution_count": 9,
      "outputs": [
        {
          "output_type": "stream",
          "name": "stdout",
          "text": [
            "O valor em dólares é: $1751.31\n"
          ]
        }
      ]
    },
    {
      "cell_type": "markdown",
      "source": [
        "##Cálculo de comissão"
      ],
      "metadata": {
        "id": "GZK7tyWSkDP2"
      }
    },
    {
      "cell_type": "code",
      "source": [
        "# entrada\n",
        "preco_unitario = float(input(\"Digite o preço unitário da peça: \"))\n",
        "quantidade_vendida = int(input(\"Digite a quantidade vendida: \"))\n",
        "\n"
      ],
      "metadata": {
        "colab": {
          "base_uri": "https://localhost:8080/"
        },
        "id": "ke0Tq_gtkMxG",
        "outputId": "21f5fa5e-06ca-4876-8839-7ea3ab9d5cbd"
      },
      "execution_count": 10,
      "outputs": [
        {
          "name": "stdout",
          "output_type": "stream",
          "text": [
            "Digite o preço unitário da peça: 60\n",
            "Digite a quantidade vendida: 4\n"
          ]
        }
      ]
    },
    {
      "cell_type": "code",
      "source": [
        "# processamento\n",
        "valor_total_venda = preco_unitario * quantidade_vendida\n",
        "comissao = valor_total_venda * 0.05\n",
        "\n"
      ],
      "metadata": {
        "id": "Vxg-CCS_kOfU"
      },
      "execution_count": 11,
      "outputs": []
    },
    {
      "cell_type": "code",
      "source": [
        "# saida\n",
        "print(f\"Valor total da venda: R${valor_total_venda:.2f}\")\n",
        "print(f\"Comissão do vendedor: R${comissao:.2f}\")"
      ],
      "metadata": {
        "colab": {
          "base_uri": "https://localhost:8080/"
        },
        "id": "pfmLlCQ4kQJi",
        "outputId": "d827efdb-d5eb-45f4-be30-92158295dd6f"
      },
      "execution_count": 12,
      "outputs": [
        {
          "output_type": "stream",
          "name": "stdout",
          "text": [
            "Valor total da venda: R$240.00\n",
            "Comissão do vendedor: R$12.00\n"
          ]
        }
      ]
    }
  ]
}