{
  "nbformat": 4,
  "nbformat_minor": 0,
  "metadata": {
    "colab": {
      "provenance": [],
      "authorship_tag": "ABX9TyOd1jLcTw823JlSJFPH1Iya",
      "include_colab_link": true
    },
    "kernelspec": {
      "name": "python3",
      "display_name": "Python 3"
    },
    "language_info": {
      "name": "python"
    }
  },
  "cells": [
    {
      "cell_type": "markdown",
      "metadata": {
        "id": "view-in-github",
        "colab_type": "text"
      },
      "source": [
        "<a href=\"https://colab.research.google.com/github/PietroSantos280/aula_de_PA/blob/main/atividade_de_Pa.ipynb\" target=\"_parent\"><img src=\"https://colab.research.google.com/assets/colab-badge.svg\" alt=\"Open In Colab\"/></a>"
      ]
    },
    {
      "cell_type": "markdown",
      "source": [
        "##calculo de média"
      ],
      "metadata": {
        "id": "wlFYVapRiz0i"
      }
    },
    {
      "cell_type": "code",
      "execution_count": 1,
      "metadata": {
        "colab": {
          "base_uri": "https://localhost:8080/"
        },
        "id": "x5yNOuvKir2A",
        "outputId": "9c769227-a85d-4fff-ceea-ce31baa5f25e"
      },
      "outputs": [
        {
          "name": "stdout",
          "output_type": "stream",
          "text": [
            "Digite a nota da P1: 8\n",
            "Digite a nota da P2: 9\n"
          ]
        }
      ],
      "source": [
        "# entrada\n",
        "nota1 = float(input(\"Digite a nota da P1: \"))\n",
        "nota2 = float(input(\"Digite a nota da P2: \"))\n"
      ]
    },
    {
      "cell_type": "code",
      "source": [
        "# procassamento\n",
        "media = (nota1 + nota2) / 2\n"
      ],
      "metadata": {
        "id": "5KXtSAQyi7uw"
      },
      "execution_count": 2,
      "outputs": []
    },
    {
      "cell_type": "code",
      "source": [
        "# saída\n",
        "print(f\"A média é: {media}\")"
      ],
      "metadata": {
        "colab": {
          "base_uri": "https://localhost:8080/"
        },
        "id": "gE_BfMGzi9dp",
        "outputId": "42c49395-e5a3-4f41-81ee-c98f66e8d5a0"
      },
      "execution_count": 4,
      "outputs": [
        {
          "output_type": "stream",
          "name": "stdout",
          "text": [
            "A média é: 8.5\n"
          ]
        }
      ]
    },
    {
      "cell_type": "markdown",
      "source": [
        "##Conversão de moedas"
      ],
      "metadata": {
        "id": "qOMRVCXZjPkD"
      }
    },
    {
      "cell_type": "code",
      "source": [
        "# entrada\n",
        "cotacao = float(input(\"Digite a cotação do dólar: \"))\n",
        "valor_reais = float(input(\"Digite o valor em reais: \"))\n"
      ],
      "metadata": {
        "colab": {
          "base_uri": "https://localhost:8080/"
        },
        "id": "bS2ZlObijYau",
        "outputId": "913176fd-cdf3-4ef7-9d4f-52901269caba"
      },
      "execution_count": 7,
      "outputs": [
        {
          "name": "stdout",
          "output_type": "stream",
          "text": [
            "Digite a cotação do dólar: 5.71\n",
            "Digite o valor em reais: 10000\n"
          ]
        }
      ]
    },
    {
      "cell_type": "code",
      "source": [
        "\n",
        "# processamento\n",
        "valor_dolar = valor_reais / cotacao\n",
        "\n"
      ],
      "metadata": {
        "id": "VwmDC3gijcWZ"
      },
      "execution_count": 8,
      "outputs": []
    },
    {
      "cell_type": "code",
      "source": [
        "# saida\n",
        "print(f\"O valor em dólares é: ${valor_dolar:.2f}\")"
      ],
      "metadata": {
        "colab": {
          "base_uri": "https://localhost:8080/"
        },
        "id": "wtSz9cFnjdkr",
        "outputId": "7cd7b016-6c89-46ee-a278-52c9d0c9ce4a"
      },
      "execution_count": 9,
      "outputs": [
        {
          "output_type": "stream",
          "name": "stdout",
          "text": [
            "O valor em dólares é: $1751.31\n"
          ]
        }
      ]
    },
    {
      "cell_type": "markdown",
      "source": [
        "##Cálculo de comissão"
      ],
      "metadata": {
        "id": "GZK7tyWSkDP2"
      }
    },
    {
      "cell_type": "code",
      "source": [
        "# entrada\n",
        "preco_unitario = float(input(\"Digite o preço unitário da peça: \"))\n",
        "quantidade_vendida = int(input(\"Digite a quantidade vendida: \"))\n",
        "\n"
      ],
      "metadata": {
        "colab": {
          "base_uri": "https://localhost:8080/"
        },
        "id": "ke0Tq_gtkMxG",
        "outputId": "21f5fa5e-06ca-4876-8839-7ea3ab9d5cbd"
      },
      "execution_count": 10,
      "outputs": [
        {
          "name": "stdout",
          "output_type": "stream",
          "text": [
            "Digite o preço unitário da peça: 60\n",
            "Digite a quantidade vendida: 4\n"
          ]
        }
      ]
    },
    {
      "cell_type": "code",
      "source": [
        "# processamento\n",
        "valor_total_venda = preco_unitario * quantidade_vendida\n",
        "comissao = valor_total_venda * 0.05\n",
        "\n"
      ],
      "metadata": {
        "id": "Vxg-CCS_kOfU"
      },
      "execution_count": 11,
      "outputs": []
    },
    {
      "cell_type": "code",
      "source": [
        "# saida\n",
        "print(f\"Valor total da venda: R${valor_total_venda:.2f}\")\n",
        "print(f\"Comissão do vendedor: R${comissao:.2f}\")"
      ],
      "metadata": {
        "colab": {
          "base_uri": "https://localhost:8080/"
        },
        "id": "pfmLlCQ4kQJi",
        "outputId": "d827efdb-d5eb-45f4-be30-92158295dd6f"
      },
      "execution_count": 12,
      "outputs": [
        {
          "output_type": "stream",
          "name": "stdout",
          "text": [
            "Valor total da venda: R$240.00\n",
            "Comissão do vendedor: R$12.00\n"
          ]
        }
      ]
    },
    {
      "cell_type": "markdown",
      "source": [
        "#Lista dos exercicios"
      ],
      "metadata": {
        "id": "C_a3AHhKzGGL"
      }
    },
    {
      "cell_type": "markdown",
      "source": [
        "##EXERCICIO 1"
      ],
      "metadata": {
        "id": "DrEvb2rJzKPh"
      }
    },
    {
      "cell_type": "code",
      "source": [
        "# entrada\n",
        "valordocarro = float(input(\"valor do carro de fabricá: \"))\n"
      ],
      "metadata": {
        "colab": {
          "base_uri": "https://localhost:8080/"
        },
        "id": "92zQ8N4Z2izH",
        "outputId": "3f30e7dc-6a3d-4e5e-d3ee-3e25089154a7"
      },
      "execution_count": 26,
      "outputs": [
        {
          "name": "stdout",
          "output_type": "stream",
          "text": [
            "valor do carro de fabricá: 25000000\n"
          ]
        }
      ]
    },
    {
      "cell_type": "code",
      "source": [
        "#processamento\n",
        "impostos = (valordocarro * 45/100) + valordocarro\n",
        "final = (impostos * 28/100) + impostos"
      ],
      "metadata": {
        "id": "drRr9tSNA1TM"
      },
      "execution_count": 27,
      "outputs": []
    },
    {
      "cell_type": "code",
      "source": [
        "#saida\n",
        "print(f\"o valor final do seu veiculo ficou de: {final} reais \" )"
      ],
      "metadata": {
        "colab": {
          "base_uri": "https://localhost:8080/"
        },
        "id": "6TtRBWlF27Ql",
        "outputId": "7beaf626-fcf3-489f-f4f7-9e04d0f771dd"
      },
      "execution_count": 29,
      "outputs": [
        {
          "output_type": "stream",
          "name": "stdout",
          "text": [
            "o valor final do seu veiculo ficou de: 46400000.0 reais \n"
          ]
        }
      ]
    },
    {
      "cell_type": "markdown",
      "source": [
        "#EXERCICIO 2"
      ],
      "metadata": {
        "id": "IKql77Qa6FPx"
      }
    },
    {
      "cell_type": "code",
      "source": [
        "#entrada\n",
        "horas = float(input(\"que horas são agora: \"))\n",
        "minutos = float(input(\"quantos minutos são: \"))"
      ],
      "metadata": {
        "colab": {
          "base_uri": "https://localhost:8080/"
        },
        "id": "b09dv6Ta6KOU",
        "outputId": "9237d204-f59b-44ed-d2a7-8871ff48fecd"
      },
      "execution_count": 32,
      "outputs": [
        {
          "name": "stdout",
          "output_type": "stream",
          "text": [
            "que horas são agora: 1\n",
            "quantos minutos são: 57\n"
          ]
        }
      ]
    },
    {
      "cell_type": "code",
      "source": [
        "#processamento\n",
        "SegundosM = minutos/60\n",
        "tempoEmSegundos = (SegundosM + horas)*60\n",
        "segundos = tempoEmSegundos*60"
      ],
      "metadata": {
        "id": "hw9nPrfTBtl8"
      },
      "execution_count": 33,
      "outputs": []
    },
    {
      "cell_type": "code",
      "source": [
        "#saida\n",
        "print(f\"o tempo selecionado em segundos é de {segundos} segundos\")"
      ],
      "metadata": {
        "colab": {
          "base_uri": "https://localhost:8080/"
        },
        "id": "YT6SsKJn7Mb9",
        "outputId": "b72e8a74-41ed-4d22-eae3-3c124322e9ae"
      },
      "execution_count": 34,
      "outputs": [
        {
          "output_type": "stream",
          "name": "stdout",
          "text": [
            "o tempo selecionado em segundos é de 7020.0 segundos\n"
          ]
        }
      ]
    },
    {
      "cell_type": "markdown",
      "source": [
        "#EXERCICIO 3"
      ],
      "metadata": {
        "id": "pP0KtnTL9DoC"
      }
    },
    {
      "cell_type": "code",
      "source": [
        "#entrada\n",
        "horastrbalhadas = float(input(\"quantas horas você trablhou: \"))\n",
        "minutostrabalhados = float(input(\"quantos minutos você trabalhou: \"))\n",
        "salario = float(input(\"quanto você ganha por hora em seu trabalho: \"))"
      ],
      "metadata": {
        "colab": {
          "base_uri": "https://localhost:8080/"
        },
        "id": "fCWOiYcB9GNQ",
        "outputId": "a9135862-8b85-4ecd-ec2b-7e4cee745271"
      },
      "execution_count": 41,
      "outputs": [
        {
          "name": "stdout",
          "output_type": "stream",
          "text": [
            "quantas horas você trablhou: 16\n",
            "quantos minutos você trabalhou: 30\n",
            "quanto você ganha por hora em seu trabalho: 30\n"
          ]
        }
      ]
    },
    {
      "cell_type": "code",
      "source": [
        "#processamento\n",
        "segundosM = minutostrabalhados/60\n",
        "horas = segundosM + horastrbalhadas\n",
        "salarioextra= horas * salario\n",
        "resultadofinal = (salarioextra*70/100)+ salarioextra"
      ],
      "metadata": {
        "id": "Uo3TRrQhCsnN"
      },
      "execution_count": 42,
      "outputs": []
    },
    {
      "cell_type": "code",
      "source": [
        "#saida\n",
        "print (f\"o salário que voccê ganha é de {resultadofinal} por mês\")"
      ],
      "metadata": {
        "colab": {
          "base_uri": "https://localhost:8080/"
        },
        "id": "4Aqo6jHa9ibz",
        "outputId": "788b0729-b131-4b9a-8b9c-c09473565df1"
      },
      "execution_count": 43,
      "outputs": [
        {
          "output_type": "stream",
          "name": "stdout",
          "text": [
            "o salário que voccê ganha é de 841.5 por mês\n"
          ]
        }
      ]
    }
  ]
}